{
 "cells": [
  {
   "cell_type": "code",
   "execution_count": 1,
   "metadata": {},
   "outputs": [],
   "source": [
    "# Linear Regression\n",
    "# Humberto Barrantes\n",
    "# 09-2020"
   ]
  },
  {
   "cell_type": "code",
   "execution_count": 2,
   "metadata": {},
   "outputs": [],
   "source": [
    "# imports\n",
    "\n",
    "import matplotlib.pyplot as plt\n",
    "import pandas as pd\n",
    "import numpy as np\n",
    "from sklearn.linear_model import LinearRegression\n",
    "import datetime\n",
    "from sklearn.model_selection import train_test_split"
   ]
  },
  {
   "cell_type": "code",
   "execution_count": 3,
   "metadata": {},
   "outputs": [
    {
     "data": {
      "text/html": [
       "<div>\n",
       "<style scoped>\n",
       "    .dataframe tbody tr th:only-of-type {\n",
       "        vertical-align: middle;\n",
       "    }\n",
       "\n",
       "    .dataframe tbody tr th {\n",
       "        vertical-align: top;\n",
       "    }\n",
       "\n",
       "    .dataframe thead th {\n",
       "        text-align: right;\n",
       "    }\n",
       "</style>\n",
       "<table border=\"1\" class=\"dataframe\">\n",
       "  <thead>\n",
       "    <tr style=\"text-align: right;\">\n",
       "      <th></th>\n",
       "      <th>date</th>\n",
       "      <th>rate</th>\n",
       "    </tr>\n",
       "  </thead>\n",
       "  <tbody>\n",
       "    <tr>\n",
       "      <th>0</th>\n",
       "      <td>1-Jan-10</td>\n",
       "      <td>9.8</td>\n",
       "    </tr>\n",
       "    <tr>\n",
       "      <th>1</th>\n",
       "      <td>1-Feb-10</td>\n",
       "      <td>9.8</td>\n",
       "    </tr>\n",
       "    <tr>\n",
       "      <th>2</th>\n",
       "      <td>1-Mar-10</td>\n",
       "      <td>9.9</td>\n",
       "    </tr>\n",
       "    <tr>\n",
       "      <th>3</th>\n",
       "      <td>1-Apr-10</td>\n",
       "      <td>9.9</td>\n",
       "    </tr>\n",
       "    <tr>\n",
       "      <th>4</th>\n",
       "      <td>1-May-10</td>\n",
       "      <td>9.6</td>\n",
       "    </tr>\n",
       "  </tbody>\n",
       "</table>\n",
       "</div>"
      ],
      "text/plain": [
       "       date  rate\n",
       "0  1-Jan-10   9.8\n",
       "1  1-Feb-10   9.8\n",
       "2  1-Mar-10   9.9\n",
       "3  1-Apr-10   9.9\n",
       "4  1-May-10   9.6"
      ]
     },
     "execution_count": 3,
     "metadata": {},
     "output_type": "execute_result"
    }
   ],
   "source": [
    "data = pd.read_csv(\"data/unemployment-rate.csv\")\n",
    "data.head()"
   ]
  },
  {
   "cell_type": "code",
   "execution_count": 4,
   "metadata": {},
   "outputs": [],
   "source": [
    "# convert to dates\n",
    "\n",
    "data['date'] = pd.to_datetime(data['date'])"
   ]
  },
  {
   "cell_type": "code",
   "execution_count": 5,
   "metadata": {},
   "outputs": [],
   "source": [
    "# remove 2020!\n",
    "\n",
    "data = data[data.date < datetime.datetime(2020, 1, 1)]"
   ]
  },
  {
   "cell_type": "code",
   "execution_count": 6,
   "metadata": {},
   "outputs": [
    {
     "data": {
      "text/html": [
       "<div>\n",
       "<style scoped>\n",
       "    .dataframe tbody tr th:only-of-type {\n",
       "        vertical-align: middle;\n",
       "    }\n",
       "\n",
       "    .dataframe tbody tr th {\n",
       "        vertical-align: top;\n",
       "    }\n",
       "\n",
       "    .dataframe thead th {\n",
       "        text-align: right;\n",
       "    }\n",
       "</style>\n",
       "<table border=\"1\" class=\"dataframe\">\n",
       "  <thead>\n",
       "    <tr style=\"text-align: right;\">\n",
       "      <th></th>\n",
       "      <th>date</th>\n",
       "      <th>rate</th>\n",
       "    </tr>\n",
       "  </thead>\n",
       "  <tbody>\n",
       "    <tr>\n",
       "      <th>115</th>\n",
       "      <td>2019-08-01</td>\n",
       "      <td>3.7</td>\n",
       "    </tr>\n",
       "    <tr>\n",
       "      <th>116</th>\n",
       "      <td>2019-09-01</td>\n",
       "      <td>3.5</td>\n",
       "    </tr>\n",
       "    <tr>\n",
       "      <th>117</th>\n",
       "      <td>2019-10-01</td>\n",
       "      <td>3.6</td>\n",
       "    </tr>\n",
       "    <tr>\n",
       "      <th>118</th>\n",
       "      <td>2019-11-01</td>\n",
       "      <td>3.5</td>\n",
       "    </tr>\n",
       "    <tr>\n",
       "      <th>119</th>\n",
       "      <td>2019-12-01</td>\n",
       "      <td>3.5</td>\n",
       "    </tr>\n",
       "  </tbody>\n",
       "</table>\n",
       "</div>"
      ],
      "text/plain": [
       "          date  rate\n",
       "115 2019-08-01   3.7\n",
       "116 2019-09-01   3.5\n",
       "117 2019-10-01   3.6\n",
       "118 2019-11-01   3.5\n",
       "119 2019-12-01   3.5"
      ]
     },
     "execution_count": 6,
     "metadata": {},
     "output_type": "execute_result"
    }
   ],
   "source": [
    "data.tail()"
   ]
  },
  {
   "cell_type": "code",
   "execution_count": 7,
   "metadata": {},
   "outputs": [
    {
     "data": {
      "text/plain": [
       "'\\ndef one_plot(x_data, y_data, x_label, y_label, model=None):\\n    \\n    plt.scatter(x_data, y_data, c=\\'lightgray\\')\\n\\n    plt.xlabel(x_label)\\n    plt.ylabel(y_label)\\n    \\n    if model != None:\\n        y_prima = model.predict(x_data)\\n        plt.plot(x_data, y_prima, \\'r--\\', c = \"magenta\")\\n\\n    plt.show()\\n    \\ndef future_plot(x_data, y_data, x_label, y_label, model, x_future):\\n    \\n    plt.scatter(x_data, y_data, c=\\'lightgray\\')\\n\\n    plt.xlabel(x_label)\\n    plt.ylabel(y_label)\\n    \\n    if model != None:\\n        y_prima = model.predict(x_future)\\n        plt.plot(x_future, y_prima, \\'r--\\', c = \"magenta\")\\n\\n    plt.show()\\n    \\n'"
      ]
     },
     "execution_count": 7,
     "metadata": {},
     "output_type": "execute_result"
    }
   ],
   "source": [
    "# plots\n",
    "\n",
    "'''\n",
    "def one_plot(x_data, y_data, x_label, y_label, model=None):\n",
    "    \n",
    "    plt.scatter(x_data, y_data, c='lightgray')\n",
    "\n",
    "    plt.xlabel(x_label)\n",
    "    plt.ylabel(y_label)\n",
    "    \n",
    "    if model != None:\n",
    "        y_prima = model.predict(x_data)\n",
    "        plt.plot(x_data, y_prima, 'r--', c = \"magenta\")\n",
    "\n",
    "    plt.show()\n",
    "    \n",
    "def future_plot(x_data, y_data, x_label, y_label, model, x_future):\n",
    "    \n",
    "    plt.scatter(x_data, y_data, c='lightgray')\n",
    "\n",
    "    plt.xlabel(x_label)\n",
    "    plt.ylabel(y_label)\n",
    "    \n",
    "    if model != None:\n",
    "        y_prima = model.predict(x_future)\n",
    "        plt.plot(x_future, y_prima, 'r--', c = \"magenta\")\n",
    "\n",
    "    plt.show()\n",
    "    \n",
    "'''"
   ]
  },
  {
   "cell_type": "code",
   "execution_count": 8,
   "metadata": {},
   "outputs": [],
   "source": [
    "#one_plot(data[\"date\"], data[\"rate\"], \"date\", \"unemployment rate\")"
   ]
  },
  {
   "cell_type": "code",
   "execution_count": 9,
   "metadata": {},
   "outputs": [],
   "source": [
    "# convert dates to numbers\n",
    "\n",
    "data['date'] = data['date'].map(datetime.datetime.toordinal)"
   ]
  },
  {
   "cell_type": "code",
   "execution_count": 10,
   "metadata": {},
   "outputs": [],
   "source": [
    "# add another column\n",
    "\n",
    "data['date_2'] = np.power(data['date'], 2)\n",
    "\n",
    "data['date_3'] = np.power(data['date'], 3)\n",
    "\n",
    "#data['date_4'] = np.power(data['date'], 4)"
   ]
  },
  {
   "cell_type": "code",
   "execution_count": 11,
   "metadata": {},
   "outputs": [],
   "source": [
    "# split the features and labels\n",
    "\n",
    "y = np.array(data['rate']).reshape(-1,1)\n",
    "X = np.array(data.iloc[:,data.columns != 'rate'])"
   ]
  },
  {
   "cell_type": "code",
   "execution_count": 12,
   "metadata": {},
   "outputs": [],
   "source": [
    "X_train, X_test, y_train, y_test = train_test_split(X, y, test_size=0.20, random_state=42)"
   ]
  },
  {
   "cell_type": "code",
   "execution_count": 13,
   "metadata": {},
   "outputs": [],
   "source": [
    "model = LinearRegression().fit(X_train, y_train)"
   ]
  },
  {
   "cell_type": "code",
   "execution_count": 14,
   "metadata": {},
   "outputs": [
    {
     "name": "stdout",
     "output_type": "stream",
     "text": [
      "train: 0.9894074974650293, test: 0.9809713959158329\n"
     ]
    }
   ],
   "source": [
    "train_score = model.score(X_train, y_train)\n",
    "test_score = model.score(X_test, y_test)\n",
    "\n",
    "print(f\"train: {train_score}, test: {test_score}\")"
   ]
  },
  {
   "cell_type": "code",
   "execution_count": 15,
   "metadata": {},
   "outputs": [
    {
     "data": {
      "image/png": "[encoded data removed]",
      "text/plain": [
       "<Figure size 432x288 with 1 Axes>"
      ]
     },
     "metadata": {
      "needs_background": "light"
     },
     "output_type": "display_data"
    }
   ],
   "source": [
    "# train plot\n",
    "# one_plot(X_train, y_train, \"date\", \"unemployment rate\", model)\n",
    "\n",
    "plt.scatter(X.T[0], y, c='lightgray')\n",
    "\n",
    "plt.xlabel(\"date\")\n",
    "plt.ylabel(\"unemployment rate\")\n",
    "\n",
    "y_prima = model.predict(X)\n",
    "plt.plot(X.T[0], y_prima, 'r--', c = \"magenta\")\n",
    "\n",
    "plt.show()"
   ]
  },
  {
   "cell_type": "code",
   "execution_count": 16,
   "metadata": {},
   "outputs": [],
   "source": [
    "# prediction\n",
    "\n",
    "# date = datetime.datetime(2020, 1, 1)\n",
    "\n",
    "# X_val = np.array([[date.toordinal(), date.toordinal()**2, date.toordinal()**3]])\n",
    "\n",
    "# print(model.predict(X_val))"
   ]
  },
  {
   "cell_type": "code",
   "execution_count": 17,
   "metadata": {},
   "outputs": [],
   "source": [
    "# prediction\n",
    "\n",
    "# date = datetime.datetime(2020, x, 1)\n",
    "\n",
    "x_future = []\n",
    "\n",
    "for year in range (2005, 2024):\n",
    "    for month in range (1,12):\n",
    "        x_future.append(datetime.datetime(year, month, 1).toordinal())\n",
    "\n",
    "X_val = np.array([x_future, np.power(x_future,2), np.power(x_future,3)]).T"
   ]
  },
  {
   "cell_type": "code",
   "execution_count": 18,
   "metadata": {},
   "outputs": [
    {
     "data": {
      "image/png": "[encoded data removed]",
      "text/plain": [
       "<Figure size 432x288 with 1 Axes>"
      ]
     },
     "metadata": {
      "needs_background": "light"
     },
     "output_type": "display_data"
    }
   ],
   "source": [
    "# future_plot(data['date'], data['rate'], \"date\", \"unemployment rate\", model, X_val)\n",
    "\n",
    "plt.scatter(X.T[0], y, c='lightgray')\n",
    "\n",
    "plt.xlabel(\"date\")\n",
    "plt.ylabel(\"unemployment rate\")\n",
    "\n",
    "y_prima = model.predict(X_val)\n",
    "plt.plot(X_val.T[0], y_prima, 'r--', c = \"magenta\")\n",
    "\n",
    "plt.show()"
   ]
  },
  {
   "cell_type": "code",
   "execution_count": null,
   "metadata": {},
   "outputs": [],
   "source": []
  }
 ],
 "metadata": {
  "kernelspec": {
   "display_name": "Python 3",
   "language": "python",
   "name": "python3"
  },
  "language_info": {
   "codemirror_mode": {
    "name": "ipython",
    "version": 3
   },
   "file_extension": ".py",
   "mimetype": "text/x-python",
   "name": "python",
   "nbconvert_exporter": "python",
   "pygments_lexer": "ipython3",
   "version": "3.8.2"
  }
 },
 "nbformat": 4,
 "nbformat_minor": 4
}
